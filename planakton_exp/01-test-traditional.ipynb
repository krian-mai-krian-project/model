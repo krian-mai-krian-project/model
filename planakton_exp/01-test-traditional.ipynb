{
 "cells": [
  {
   "cell_type": "code",
   "execution_count": 15,
   "metadata": {
    "executionInfo": {
     "elapsed": 3914,
     "status": "ok",
     "timestamp": 1678598822013,
     "user": {
      "displayName": "Piyaphat Pinyo",
      "userId": "18158885176219255666"
     },
     "user_tz": -420
    },
    "id": "_jm-sHTESPva"
   },
   "outputs": [],
   "source": [
    "import torch\n",
    "import torch.nn as nn\n",
    "import torch.optim as optim\n",
    "import time\n",
    "from tqdm.notebook import tqdm\n",
    "\n",
    "from torchvision import datasets, transforms\n",
    "from torch.utils.data import DataLoader, Subset"
   ]
  },
  {
   "cell_type": "code",
   "execution_count": null,
   "metadata": {},
   "outputs": [],
   "source": []
  },
  {
   "cell_type": "code",
   "execution_count": 16,
   "metadata": {
    "id": "bCjSS0nKSkou"
   },
   "outputs": [],
   "source": [
    "# from google.colab import drive\n",
    "# drive.mount('/content/drive')"
   ]
  },
  {
   "cell_type": "code",
   "execution_count": 17,
   "metadata": {
    "executionInfo": {
     "elapsed": 9,
     "status": "ok",
     "timestamp": 1678598822016,
     "user": {
      "displayName": "Piyaphat Pinyo",
      "userId": "18158885176219255666"
     },
     "user_tz": -420
    },
    "id": "cSJholw5RKeI"
   },
   "outputs": [],
   "source": [
    "IMAGE_SIZE = 224 # Image size of resize when applying transforms.\n",
    "BATCH_SIZE = 64\n",
    "NUM_WORKERS = 4 # Number of parallel processes for data preparation.\n",
    "SUBMISSION = 'submission.csv'\n",
    "DATA_DIR = 'test'\n",
    "MODEL_DIR = 'model.pth'"
   ]
  },
  {
   "cell_type": "code",
   "execution_count": 18,
   "metadata": {
    "id": "dwzdDK6BTNCE"
   },
   "outputs": [],
   "source": [
    "import torchvision.models as models\n",
    "import torch.nn as nn\n",
    "\n",
    "def build_model(pretrained=True, fine_tune=True, num_classes=11):\n",
    "    if pretrained:\n",
    "        print('[INFO]: Loading pre-trained weights')\n",
    "    else:\n",
    "        print('[INFO]: Not loading pre-trained weights')\n",
    "    model = models.efficientnet_b0(pretrained=pretrained)\n",
    "    if fine_tune:\n",
    "        print('[INFO]: Fine-tuning all layers...')\n",
    "        for params in model.parameters():\n",
    "            params.requires_grad = True\n",
    "    elif not fine_tune:\n",
    "        print('[INFO]: Freezing hidden layers...')\n",
    "        for params in model.parameters():\n",
    "            params.requires_grad = False\n",
    "            \n",
    "    num_features = model.classifier[-1].in_features\n",
    "    # Change the final classification head.\n",
    "    model.classifier[-1] = nn.Sequential(\n",
    "      nn.Dropout(p=0.5),\n",
    "      nn.Linear(num_features,num_classes),\n",
    "      nn.Softmax(dim=1) \n",
    "    )\n",
    "    return model"
   ]
  },
  {
   "cell_type": "code",
   "execution_count": null,
   "metadata": {},
   "outputs": [],
   "source": []
  },
  {
   "cell_type": "code",
   "execution_count": 19,
   "metadata": {
    "id": "dYWKLU7ASAH5"
   },
   "outputs": [],
   "source": [
    "test_transform = transforms.Compose([\n",
    "    transforms.Resize((IMAGE_SIZE, IMAGE_SIZE)),\n",
    "    transforms.ToTensor(),\n",
    "    transforms.Normalize(\n",
    "            mean=[0.485, 0.456, 0.406],\n",
    "            std=[0.229, 0.224, 0.225]\n",
    "            )\n",
    "])"
   ]
  },
  {
   "cell_type": "code",
   "execution_count": 20,
   "metadata": {
    "id": "rF56ePVKT7T5"
   },
   "outputs": [],
   "source": [
    "import os\n",
    "from PIL import Image\n",
    "from torch.utils.data import Dataset\n",
    "class CustomDataset(Dataset):\n",
    "    def __init__(self, root_dir, transform=None):\n",
    "        self.root_dir = root_dir\n",
    "        self.transform = transform\n",
    "        self.image_names = os.listdir(root_dir)\n",
    "    \n",
    "    def __len__(self):\n",
    "        return len(self.image_names)\n",
    "    \n",
    "    def __getitem__(self, idx):\n",
    "        img_name = os.path.join(self.root_dir, self.image_names[idx])\n",
    "        image = Image.open(img_name).convert('RGB')\n",
    "        if self.transform:\n",
    "            image = self.transform(image)\n",
    "        img_name = self.image_names[idx]\n",
    "        uid = int(img_name[len(\"test\"):img_name.find(\".\")])\n",
    "#         uid = int(img_name[:img_name.find(\".\")])\n",
    "        return image, uid"
   ]
  },
  {
   "cell_type": "code",
   "execution_count": null,
   "metadata": {},
   "outputs": [],
   "source": []
  },
  {
   "cell_type": "code",
   "execution_count": 21,
   "metadata": {
    "id": "GFenQSHTSKdT"
   },
   "outputs": [],
   "source": [
    "dataset_test = CustomDataset(\n",
    "    DATA_DIR, \n",
    "    transform=test_transform\n",
    ")"
   ]
  },
  {
   "cell_type": "code",
   "execution_count": 22,
   "metadata": {
    "id": "PSa-Fo_TR1T-"
   },
   "outputs": [],
   "source": [
    "test_loader = DataLoader(\n",
    "        dataset_test, batch_size=BATCH_SIZE, \n",
    "        shuffle=False\n",
    ")"
   ]
  },
  {
   "cell_type": "code",
   "execution_count": 23,
   "metadata": {
    "id": "VxmewaUZTeOu"
   },
   "outputs": [
    {
     "name": "stdout",
     "output_type": "stream",
     "text": [
      "cuda\n"
     ]
    }
   ],
   "source": [
    "device = ('cuda' if torch.cuda.is_available() else 'cpu')\n",
    "print(device)"
   ]
  },
  {
   "cell_type": "code",
   "execution_count": 24,
   "metadata": {
    "id": "0xaEJVazSyyz"
   },
   "outputs": [
    {
     "name": "stdout",
     "output_type": "stream",
     "text": [
      "[INFO]: Loading pre-trained weights\n",
      "[INFO]: Fine-tuning all layers...\n"
     ]
    },
    {
     "name": "stderr",
     "output_type": "stream",
     "text": [
      "C:\\Users\\OSM\\.conda\\envs\\data-midterm\\lib\\site-packages\\torchvision\\models\\_utils.py:208: UserWarning: The parameter 'pretrained' is deprecated since 0.13 and may be removed in the future, please use 'weights' instead.\n",
      "  warnings.warn(\n",
      "C:\\Users\\OSM\\.conda\\envs\\data-midterm\\lib\\site-packages\\torchvision\\models\\_utils.py:223: UserWarning: Arguments other than a weight enum or `None` for 'weights' are deprecated since 0.13 and may be removed in the future. The current behavior is equivalent to passing `weights=EfficientNet_B0_Weights.IMAGENET1K_V1`. You can also use `weights=EfficientNet_B0_Weights.DEFAULT` to get the most up-to-date weights.\n",
      "  warnings.warn(msg)\n"
     ]
    },
    {
     "name": "stdout",
     "output_type": "stream",
     "text": [
      "Loading trained model weights...\n"
     ]
    },
    {
     "data": {
      "text/plain": [
       "<All keys matched successfully>"
      ]
     },
     "execution_count": 24,
     "metadata": {},
     "output_type": "execute_result"
    }
   ],
   "source": [
    "model = build_model().to(device)\n",
    "\n",
    "checkpoint = torch.load(MODEL_DIR, map_location=device)\n",
    "print('Loading trained model weights...')\n",
    "model.load_state_dict(checkpoint)"
   ]
  },
  {
   "cell_type": "code",
   "execution_count": 25,
   "metadata": {},
   "outputs": [],
   "source": [
    "import pandas as pd"
   ]
  },
  {
   "cell_type": "code",
   "execution_count": 26,
   "metadata": {
    "id": "RpKkOYMEUc55"
   },
   "outputs": [
    {
     "data": {
      "application/vnd.jupyter.widget-view+json": {
       "model_id": "b57f1d5425b4427d87a4366b4b157ab2",
       "version_major": 2,
       "version_minor": 0
      },
      "text/plain": [
       "  0%|          | 0/74 [00:00<?, ?it/s]"
      ]
     },
     "metadata": {},
     "output_type": "display_data"
    }
   ],
   "source": [
    "ids = list()\n",
    "classes = list()\n",
    "threshold = 0.5\n",
    "\n",
    "with torch.no_grad():\n",
    "    for ( inputs, labels ) in tqdm(test_loader):\n",
    "        model.eval()\n",
    "        \n",
    "        inputs, labels = inputs.to(device), labels.to(device)\n",
    "\n",
    "        outputs = model(inputs)\n",
    "\n",
    "        scores, predicted = torch.max(outputs.data, 1)\n",
    "        \n",
    "#         for i in range(len(scores)):\n",
    "#             if scores[i].item() < threshold:\n",
    "#                 print(f\"Image {labels[i].item()} is unclassified with score:\", scores[i].item())\n",
    "#                 predicted[i] = 8 # assign spam class to the prediction\n",
    "            \n",
    "        classes.extend(predicted.cpu().numpy())\n",
    "        ids.extend(labels.cpu().numpy())\n",
    "\n",
    "should_be = []\n",
    "for i in range(len(ids)):\n",
    "    target = 1\n",
    "    # anything in `test` should not be spam  except ids > 10000\n",
    "    if ids[i] > 10000 :\n",
    "        target = 0\n",
    "        \n",
    "    if classes[i] == 8 :\n",
    "        classes[i] = 0\n",
    "    else :\n",
    "        classes[i] = 1\n",
    "    should_be.append(target)\n",
    "\n",
    "        \n",
    "df = pd.DataFrame({'ID': ids, 'class': classes})\n",
    "df.to_csv(SUBMISSION, index=False)"
   ]
  },
  {
   "cell_type": "code",
   "execution_count": 27,
   "metadata": {},
   "outputs": [
    {
     "name": "stdout",
     "output_type": "stream",
     "text": [
      "[[  23    5]\n",
      " [ 106 4542]]\n"
     ]
    }
   ],
   "source": [
    "from sklearn.metrics import confusion_matrix\n",
    "# Calculate confusion matrix\n",
    "cm = confusion_matrix(should_be, classes)\n",
    "\n",
    "print(cm)"
   ]
  }
 ],
 "metadata": {
  "colab": {
   "authorship_tag": "ABX9TyMN0fvNSQowt4d16LzdVhlK",
   "provenance": []
  },
  "kernelspec": {
   "display_name": "Python 3 (ipykernel)",
   "language": "python",
   "name": "python3"
  },
  "language_info": {
   "codemirror_mode": {
    "name": "ipython",
    "version": 3
   },
   "file_extension": ".py",
   "mimetype": "text/x-python",
   "name": "python",
   "nbconvert_exporter": "python",
   "pygments_lexer": "ipython3",
   "version": "3.9.16"
  }
 },
 "nbformat": 4,
 "nbformat_minor": 1
}
