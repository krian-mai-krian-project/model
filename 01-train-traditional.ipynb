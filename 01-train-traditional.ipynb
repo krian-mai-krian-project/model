{
 "cells": [
  {
   "cell_type": "code",
   "execution_count": 1,
   "metadata": {
    "executionInfo": {
     "elapsed": 371,
     "status": "ok",
     "timestamp": 1678597354286,
     "user": {
      "displayName": "Piyaphat Pinyo",
      "userId": "18158885176219255666"
     },
     "user_tz": -420
    },
    "id": "T3Au77dAEyNS"
   },
   "outputs": [],
   "source": [
    "import torch\n",
    "import torch.nn as nn\n",
    "import torch.optim as optim\n",
    "import time\n",
    "\n",
    "from tqdm.auto import tqdm\n",
    "\n",
    "from torchvision import datasets, transforms\n",
    "from torch.utils.data import DataLoader, Subset\n",
    "from torch.optim.lr_scheduler import ReduceLROnPlateau"
   ]
  },
  {
   "cell_type": "code",
   "execution_count": 2,
   "metadata": {
    "colab": {
     "base_uri": "https://localhost:8080/"
    },
    "executionInfo": {
     "elapsed": 2698,
     "status": "ok",
     "timestamp": 1678597357350,
     "user": {
      "displayName": "Piyaphat Pinyo",
      "userId": "18158885176219255666"
     },
     "user_tz": -420
    },
    "id": "K54GOupeGvYH",
    "outputId": "b78f3ee2-dd66-42e0-bbb0-8def5ade9bd1"
   },
   "outputs": [],
   "source": [
    "# from google.colab import drive\n",
    "# drive.mount('/content/drive')"
   ]
  },
  {
   "cell_type": "code",
   "execution_count": 3,
   "metadata": {
    "executionInfo": {
     "elapsed": 16,
     "status": "ok",
     "timestamp": 1678597357351,
     "user": {
      "displayName": "Piyaphat Pinyo",
      "userId": "18158885176219255666"
     },
     "user_tz": -420
    },
    "id": "d4ms_gQbHh0-"
   },
   "outputs": [],
   "source": [
    "# Required constants.\n",
    "ROOT_DIR = '.'\n",
    "VALID_SPLIT = 0.15\n",
    "IMAGE_SIZE = 224  # Image size of resize when applying transforms.\n",
    "BATCH_SIZE = 64\n",
    "NUM_WORKERS = 4 # Number of parallel processes for data preparation."
   ]
  },
  {
   "cell_type": "code",
   "execution_count": 4,
   "metadata": {
    "executionInfo": {
     "elapsed": 15,
     "status": "ok",
     "timestamp": 1678597357352,
     "user": {
      "displayName": "Piyaphat Pinyo",
      "userId": "18158885176219255666"
     },
     "user_tz": -420
    },
    "id": "GbulZ1IpIH_w"
   },
   "outputs": [],
   "source": [
    "pretrained = True\n",
    "lr = 0.0001\n",
    "epochs = 50"
   ]
  },
  {
   "cell_type": "markdown",
   "metadata": {
    "id": "bRgQYQPdHNPU"
   },
   "source": [
    "## Utils"
   ]
  },
  {
   "cell_type": "code",
   "execution_count": 5,
   "metadata": {
    "executionInfo": {
     "elapsed": 14,
     "status": "ok",
     "timestamp": 1678597357352,
     "user": {
      "displayName": "Piyaphat Pinyo",
      "userId": "18158885176219255666"
     },
     "user_tz": -420
    },
    "id": "cxNh6llGITUU"
   },
   "outputs": [],
   "source": [
    "def save_model(epochs, model, optimizer, criterion, pretrained):\n",
    "    \"\"\"\n",
    "    Function to save the trained model to disk.\n",
    "    \"\"\"\n",
    "    torch.save(model.state_dict(), f\"{ROOT_DIR}/model.pth\")"
   ]
  },
  {
   "cell_type": "code",
   "execution_count": 6,
   "metadata": {
    "executionInfo": {
     "elapsed": 14,
     "status": "ok",
     "timestamp": 1678597357353,
     "user": {
      "displayName": "Piyaphat Pinyo",
      "userId": "18158885176219255666"
     },
     "user_tz": -420
    },
    "id": "FYGvcOwtEo4T"
   },
   "outputs": [],
   "source": [
    "def get_data_loaders(dataset_train, dataset_valid):\n",
    "    \"\"\"\n",
    "    Prepares the training and validation data loaders.\n",
    "\n",
    "    :param dataset_train: The training dataset.\n",
    "    :param dataset_valid: The validation dataset.\n",
    "\n",
    "    Returns the training and validation data loaders.\n",
    "    \"\"\"\n",
    "    train_loader = DataLoader(\n",
    "        dataset_train, batch_size=BATCH_SIZE, \n",
    "        shuffle=True, num_workers=NUM_WORKERS\n",
    "    )\n",
    "    valid_loader = DataLoader(\n",
    "        dataset_valid, batch_size=BATCH_SIZE, \n",
    "        shuffle=False, num_workers=NUM_WORKERS\n",
    "    )\n",
    "    return train_loader, valid_loader "
   ]
  },
  {
   "cell_type": "code",
   "execution_count": 7,
   "metadata": {
    "executionInfo": {
     "elapsed": 13,
     "status": "ok",
     "timestamp": 1678597357353,
     "user": {
      "displayName": "Piyaphat Pinyo",
      "userId": "18158885176219255666"
     },
     "user_tz": -420
    },
    "id": "uliSaiClD3Bm"
   },
   "outputs": [],
   "source": [
    "# Image normalization transforms.\n",
    "def normalize_transform(pretrained):\n",
    "    if pretrained: # Normalization for pre-trained weights.\n",
    "        normalize = transforms.Normalize(\n",
    "            mean=[0.485, 0.456, 0.406],\n",
    "            std=[0.229, 0.224, 0.225]\n",
    "            )\n",
    "    else: # Normalization when training from scratch.\n",
    "        normalize = transforms.Normalize(\n",
    "            mean=[0.5, 0.5, 0.5],\n",
    "            std=[0.5, 0.5, 0.5]\n",
    "        )\n",
    "    return normalize"
   ]
  },
  {
   "cell_type": "code",
   "execution_count": 8,
   "metadata": {
    "executionInfo": {
     "elapsed": 13,
     "status": "ok",
     "timestamp": 1678597357354,
     "user": {
      "displayName": "Piyaphat Pinyo",
      "userId": "18158885176219255666"
     },
     "user_tz": -420
    },
    "id": "MiqviS-YDw6C"
   },
   "outputs": [],
   "source": [
    "# Training transforms\n",
    "def get_train_transform(IMAGE_SIZE, pretrained):\n",
    "    train_transform = transforms.Compose([\n",
    "        transforms.Resize((IMAGE_SIZE, IMAGE_SIZE)),\n",
    "        transforms.RandomRotation(30,),\n",
    "        transforms.RandomHorizontalFlip(p=0.5),\n",
    "        transforms.ToTensor(),\n",
    "        normalize_transform(pretrained)\n",
    "    ])\n",
    "    return train_transform"
   ]
  },
  {
   "cell_type": "code",
   "execution_count": 9,
   "metadata": {
    "executionInfo": {
     "elapsed": 12,
     "status": "ok",
     "timestamp": 1678597357354,
     "user": {
      "displayName": "Piyaphat Pinyo",
      "userId": "18158885176219255666"
     },
     "user_tz": -420
    },
    "id": "IV3T_3xFD0Kt"
   },
   "outputs": [],
   "source": [
    "# Validation transforms\n",
    "def get_valid_transform(IMAGE_SIZE, pretrained):\n",
    "    valid_transform = transforms.Compose([\n",
    "        transforms.Resize((IMAGE_SIZE, IMAGE_SIZE)),\n",
    "        transforms.ToTensor(),\n",
    "        normalize_transform(pretrained)\n",
    "    ])\n",
    "    return valid_transform"
   ]
  },
  {
   "cell_type": "code",
   "execution_count": 10,
   "metadata": {
    "executionInfo": {
     "elapsed": 12,
     "status": "ok",
     "timestamp": 1678597357355,
     "user": {
      "displayName": "Piyaphat Pinyo",
      "userId": "18158885176219255666"
     },
     "user_tz": -420
    },
    "id": "Y511CQbmENuo"
   },
   "outputs": [],
   "source": [
    "def get_datasets(pretrained):\n",
    "\n",
    "    DATA_DIR = f\"{ROOT_DIR}/train\"\n",
    "\n",
    "    dataset = datasets.ImageFolder(\n",
    "        DATA_DIR, \n",
    "        transform=(get_train_transform(IMAGE_SIZE, pretrained))\n",
    "    )\n",
    "    dataset_test = datasets.ImageFolder(\n",
    "        DATA_DIR, \n",
    "        transform=(get_valid_transform(IMAGE_SIZE, pretrained))\n",
    "    )\n",
    "    dataset_size = len(dataset)\n",
    "\n",
    "    # Calculate the validation dataset size.\n",
    "    valid_size = int(VALID_SPLIT*dataset_size)\n",
    "    # Radomize the data indices.\n",
    "    indices = torch.randperm(len(dataset)).tolist()\n",
    "    # Training and validation sets.\n",
    "    dataset_train = Subset(dataset, indices[:-valid_size])\n",
    "    dataset_valid = Subset(dataset_test, indices[-valid_size:])\n",
    "\n",
    "    class_weights = 1/torch.Tensor([dataset.targets.count(i) for i in range(len(dataset.classes))])\n",
    "\n",
    "    return dataset_train, dataset_valid, dataset.classes, class_weights"
   ]
  },
  {
   "cell_type": "code",
   "execution_count": 11,
   "metadata": {
    "executionInfo": {
     "elapsed": 12,
     "status": "ok",
     "timestamp": 1678597357355,
     "user": {
      "displayName": "Piyaphat Pinyo",
      "userId": "18158885176219255666"
     },
     "user_tz": -420
    },
    "id": "W8liL-2qEifd"
   },
   "outputs": [],
   "source": [
    "def get_data_loaders(dataset_train, dataset_valid):\n",
    "    \"\"\"\n",
    "    Prepares the training and validation data loaders.\n",
    "\n",
    "    :param dataset_train: The training dataset.\n",
    "    :param dataset_valid: The validation dataset.\n",
    "\n",
    "    Returns the training and validation data loaders.\n",
    "    \"\"\"\n",
    "    train_loader = DataLoader(\n",
    "        dataset_train, batch_size=BATCH_SIZE, \n",
    "        shuffle=True, num_workers=NUM_WORKERS\n",
    "    )\n",
    "    valid_loader = DataLoader(\n",
    "        dataset_valid, batch_size=BATCH_SIZE, \n",
    "        shuffle=False, num_workers=NUM_WORKERS\n",
    "    )\n",
    "    return train_loader, valid_loader "
   ]
  },
  {
   "cell_type": "code",
   "execution_count": 12,
   "metadata": {
    "executionInfo": {
     "elapsed": 629,
     "status": "ok",
     "timestamp": 1678597357973,
     "user": {
      "displayName": "Piyaphat Pinyo",
      "userId": "18158885176219255666"
     },
     "user_tz": -420
    },
    "id": "rtzwpiK-E-HY"
   },
   "outputs": [],
   "source": [
    "import torchvision.models as models\n",
    "import torch.nn as nn\n",
    "def build_model(pretrained=True, fine_tune=True, num_classes=10):\n",
    "    if pretrained:\n",
    "        print('[INFO]: Loading pre-trained weights')\n",
    "    else:\n",
    "        print('[INFO]: Not loading pre-trained weights')\n",
    "    model = models.efficientnet_b0(pretrained=pretrained)\n",
    "    if fine_tune:\n",
    "        print('[INFO]: Fine-tuning all layers...')\n",
    "        for params in model.parameters():\n",
    "            params.requires_grad = True\n",
    "    elif not fine_tune:\n",
    "        print('[INFO]: Freezing hidden layers...')\n",
    "        for params in model.parameters():\n",
    "            params.requires_grad = False\n",
    "            \n",
    "    num_features = model.classifier[-1].in_features\n",
    "    # Change the final classification head.\n",
    "    model.classifier[-1] = nn.Sequential(\n",
    "      nn.Dropout(p=0.5),\n",
    "      nn.Linear(num_features,num_classes),\n",
    "      nn.Softmax(dim=1) \n",
    "    )\n",
    "#     model.classifier[-1] =  nn.Linear(num_features,num_classes)\n",
    "\n",
    "    return model\n"
   ]
  },
  {
   "cell_type": "code",
   "execution_count": 13,
   "metadata": {
    "executionInfo": {
     "elapsed": 13,
     "status": "ok",
     "timestamp": 1678597357974,
     "user": {
      "displayName": "Piyaphat Pinyo",
      "userId": "18158885176219255666"
     },
     "user_tz": -420
    },
    "id": "tWFeYgMQFibD"
   },
   "outputs": [],
   "source": [
    "device = ('cuda' if torch.cuda.is_available() else 'cpu')"
   ]
  },
  {
   "cell_type": "code",
   "execution_count": 14,
   "metadata": {
    "executionInfo": {
     "elapsed": 13,
     "status": "ok",
     "timestamp": 1678597357975,
     "user": {
      "displayName": "Piyaphat Pinyo",
      "userId": "18158885176219255666"
     },
     "user_tz": -420
    },
    "id": "90L9XxZiFC9K"
   },
   "outputs": [],
   "source": [
    "# Training function.\n",
    "def train(model, trainloader, optimizer, criterion):\n",
    "    model.train()\n",
    "    print('Training')\n",
    "    train_running_loss = 0.0\n",
    "    train_running_correct = 0\n",
    "    counter = 0\n",
    "    for i, data in tqdm(enumerate(trainloader), total=len(trainloader)):\n",
    "        counter += 1\n",
    "        image, labels = data\n",
    "        image = image.to(device)\n",
    "        labels = labels.to(device)\n",
    "        optimizer.zero_grad()\n",
    "        # Forward pass.\n",
    "        outputs = model(image)\n",
    "        # Calculate the loss.\n",
    "        loss = criterion(outputs, labels)\n",
    "        train_running_loss += loss.item()\n",
    "        # Calculate the accuracy.\n",
    "        _, preds = torch.max(outputs.data, 1)\n",
    "        train_running_correct += (preds == labels).sum().item()\n",
    "        # Backpropagation\n",
    "        loss.backward()\n",
    "        # Update the weights.\n",
    "        optimizer.step()\n",
    "    \n",
    "    # Loss and accuracy for the complete epoch.\n",
    "    epoch_loss = train_running_loss / counter\n",
    "    epoch_acc = 100. * (train_running_correct / len(trainloader.dataset))\n",
    "    return epoch_loss, epoch_acc"
   ]
  },
  {
   "cell_type": "code",
   "execution_count": 15,
   "metadata": {
    "executionInfo": {
     "elapsed": 10,
     "status": "ok",
     "timestamp": 1678597357975,
     "user": {
      "displayName": "Piyaphat Pinyo",
      "userId": "18158885176219255666"
     },
     "user_tz": -420
    },
    "id": "8g1ifh8iFcd3"
   },
   "outputs": [],
   "source": [
    "# Validation function.\n",
    "def validate(model, testloader, criterion):\n",
    "    model.eval()\n",
    "    print('Validation')\n",
    "    valid_running_loss = 0.0\n",
    "    valid_running_correct = 0\n",
    "    counter = 0\n",
    "    with torch.no_grad():\n",
    "        for i, data in tqdm(enumerate(testloader), total=len(testloader)):\n",
    "            counter += 1\n",
    "            \n",
    "            image, labels = data\n",
    "            image = image.to(device)\n",
    "            labels = labels.to(device)\n",
    "            # Forward pass.\n",
    "            outputs = model(image)\n",
    "            # Calculate the loss.\n",
    "            loss = criterion(outputs, labels)\n",
    "            valid_running_loss += loss.item()\n",
    "            # Calculate the accuracy.\n",
    "            _, preds = torch.max(outputs.data, 1)\n",
    "            valid_running_correct += (preds == labels).sum().item()\n",
    "        \n",
    "    # Loss and accuracy for the complete epoch.\n",
    "    epoch_loss = valid_running_loss / counter\n",
    "    epoch_acc = 100. * (valid_running_correct / len(testloader.dataset))\n",
    "    return epoch_loss, epoch_acc"
   ]
  },
  {
   "cell_type": "markdown",
   "metadata": {
    "id": "MDVFFiLqHJm-"
   },
   "source": [
    "## Main"
   ]
  },
  {
   "cell_type": "code",
   "execution_count": 16,
   "metadata": {
    "colab": {
     "base_uri": "https://localhost:8080/"
    },
    "executionInfo": {
     "elapsed": 387,
     "status": "ok",
     "timestamp": 1678597358353,
     "user": {
      "displayName": "Piyaphat Pinyo",
      "userId": "18158885176219255666"
     },
     "user_tz": -420
    },
    "id": "Znd-kWHlG7ga",
    "outputId": "377385b9-2b61-4eac-cf95-1392fdd4de57"
   },
   "outputs": [
    {
     "name": "stdout",
     "output_type": "stream",
     "text": [
      "[INFO]: Number of training images: 11189\n",
      "[INFO]: Number of validation images: 1974\n",
      "[INFO]: Class weights: tensor([0.0008, 0.0007, 0.0005, 0.0008, 0.0003, 0.0015, 0.0017, 0.0010, 0.0018,\n",
      "        0.0021, 0.0018])\n",
      "[INFO]: Class names: ['canal', 'electric', 'flooding', 'light', 'road', 'sanitary', 'sewer', 'sidewalk', 'spam', 'stray', 'traffic']\n",
      "\n"
     ]
    }
   ],
   "source": [
    "dataset_train, dataset_valid, dataset_classes, class_weights = get_datasets(pretrained=pretrained)\n",
    "print(f\"[INFO]: Number of training images: {len(dataset_train)}\")\n",
    "print(f\"[INFO]: Number of validation images: {len(dataset_valid)}\")\n",
    "print(f\"[INFO]: Class weights: {class_weights}\")\n",
    "print(f\"[INFO]: Class names: {dataset_classes}\\n\")"
   ]
  },
  {
   "cell_type": "code",
   "execution_count": 17,
   "metadata": {
    "executionInfo": {
     "elapsed": 9,
     "status": "ok",
     "timestamp": 1678597358354,
     "user": {
      "displayName": "Piyaphat Pinyo",
      "userId": "18158885176219255666"
     },
     "user_tz": -420
    },
    "id": "kzYa5qDqHH40"
   },
   "outputs": [],
   "source": [
    "train_loader, valid_loader = get_data_loaders(dataset_train, dataset_valid)"
   ]
  },
  {
   "cell_type": "code",
   "execution_count": 18,
   "metadata": {
    "colab": {
     "base_uri": "https://localhost:8080/"
    },
    "executionInfo": {
     "elapsed": 8,
     "status": "ok",
     "timestamp": 1678597358354,
     "user": {
      "displayName": "Piyaphat Pinyo",
      "userId": "18158885176219255666"
     },
     "user_tz": -420
    },
    "id": "V0uR6hsEKRn5",
    "outputId": "de4d3778-14d5-42b8-a153-5f46cbc33efb"
   },
   "outputs": [
    {
     "name": "stdout",
     "output_type": "stream",
     "text": [
      "Computation device: cuda\n",
      "Learning rate: 0.0001\n",
      "Epochs to train for: 50\n",
      "\n"
     ]
    }
   ],
   "source": [
    "print(f\"Computation device: {device}\")\n",
    "print(f\"Learning rate: {lr}\")\n",
    "print(f\"Epochs to train for: {epochs}\\n\")\n"
   ]
  },
  {
   "cell_type": "code",
   "execution_count": 19,
   "metadata": {
    "colab": {
     "base_uri": "https://localhost:8080/"
    },
    "executionInfo": {
     "elapsed": 494,
     "status": "ok",
     "timestamp": 1678597358843,
     "user": {
      "displayName": "Piyaphat Pinyo",
      "userId": "18158885176219255666"
     },
     "user_tz": -420
    },
    "id": "7prmOgnqKS-Q",
    "outputId": "5f66e364-55ed-4696-aac1-061fccc590a9"
   },
   "outputs": [
    {
     "name": "stdout",
     "output_type": "stream",
     "text": [
      "[INFO]: Loading pre-trained weights\n",
      "[INFO]: Fine-tuning all layers...\n"
     ]
    },
    {
     "name": "stderr",
     "output_type": "stream",
     "text": [
      "C:\\Users\\OSM\\.conda\\envs\\data-midterm\\lib\\site-packages\\torchvision\\models\\_utils.py:208: UserWarning: The parameter 'pretrained' is deprecated since 0.13 and may be removed in the future, please use 'weights' instead.\n",
      "  warnings.warn(\n",
      "C:\\Users\\OSM\\.conda\\envs\\data-midterm\\lib\\site-packages\\torchvision\\models\\_utils.py:223: UserWarning: Arguments other than a weight enum or `None` for 'weights' are deprecated since 0.13 and may be removed in the future. The current behavior is equivalent to passing `weights=EfficientNet_B0_Weights.IMAGENET1K_V1`. You can also use `weights=EfficientNet_B0_Weights.DEFAULT` to get the most up-to-date weights.\n",
      "  warnings.warn(msg)\n"
     ]
    }
   ],
   "source": [
    "model = build_model(\n",
    "    pretrained=pretrained, \n",
    "    fine_tune=True, \n",
    "    num_classes=len(dataset_classes)\n",
    ").to(device)"
   ]
  },
  {
   "cell_type": "code",
   "execution_count": 20,
   "metadata": {
    "colab": {
     "base_uri": "https://localhost:8080/"
    },
    "executionInfo": {
     "elapsed": 14,
     "status": "ok",
     "timestamp": 1678597358844,
     "user": {
      "displayName": "Piyaphat Pinyo",
      "userId": "18158885176219255666"
     },
     "user_tz": -420
    },
    "id": "jI7Cn-YbKWKE",
    "outputId": "e9150bde-0969-48a1-9052-cbd8f00cd665"
   },
   "outputs": [
    {
     "name": "stdout",
     "output_type": "stream",
     "text": [
      "4,021,639 total parameters.\n",
      "4,021,639 training parameters.\n"
     ]
    }
   ],
   "source": [
    "# Total parameters and trainable parameters.\n",
    "total_params = sum(p.numel() for p in model.parameters())\n",
    "print(f\"{total_params:,} total parameters.\")\n",
    "total_trainable_params = sum(\n",
    "    p.numel() for p in model.parameters() if p.requires_grad)\n",
    "print(f\"{total_trainable_params:,} training parameters.\")"
   ]
  },
  {
   "cell_type": "code",
   "execution_count": 21,
   "metadata": {
    "executionInfo": {
     "elapsed": 10,
     "status": "ok",
     "timestamp": 1678597358844,
     "user": {
      "displayName": "Piyaphat Pinyo",
      "userId": "18158885176219255666"
     },
     "user_tz": -420
    },
    "id": "FkHfeNdXKWPy"
   },
   "outputs": [],
   "source": [
    "# Optimizer.\n",
    "optimizer = optim.Adam(model.parameters(), lr=lr)\n",
    "# Loss function.\n",
    "criterion = nn.CrossEntropyLoss(weight=class_weights.to(device))\n"
   ]
  },
  {
   "cell_type": "code",
   "execution_count": 22,
   "metadata": {
    "colab": {
     "base_uri": "https://localhost:8080/",
     "height": 484,
     "referenced_widgets": [
      "e1a2d5dd87f1414787b255d347586643",
      "8d7328a9b9b747f3a06a7b37d49dc05a",
      "739235bc7fde4b07af20b51046d73b10",
      "f5a66cdd4204426ab82a256dd7c86fe3",
      "156fc40a5e4a439b8fee685059a71cfd",
      "0f683384ae22452ca4c6dafd959ee7d5",
      "481d1902acd54f21938f55229bcc43d1",
      "fa68485fbe5e42ab84250cd468e0bbd7",
      "f06670443d644668b7e92c313a68a447",
      "a9676df94eb44d35ad362043730a23d5",
      "c64d138466884c8f8bc176ed4affcbfe"
     ]
    },
    "executionInfo": {
     "elapsed": 147534,
     "status": "error",
     "timestamp": 1678597506369,
     "user": {
      "displayName": "Piyaphat Pinyo",
      "userId": "18158885176219255666"
     },
     "user_tz": -420
    },
    "id": "wYXeCneyHTQ_",
    "outputId": "01dbaaab-a7ab-4a2c-bf7a-0c5045dcfcbb",
    "scrolled": false
   },
   "outputs": [
    {
     "name": "stdout",
     "output_type": "stream",
     "text": [
      "[INFO]: Epoch 1 of 50\n",
      "Training\n"
     ]
    },
    {
     "data": {
      "application/vnd.jupyter.widget-view+json": {
       "model_id": "327b8794381c46749b115a8757262c60",
       "version_major": 2,
       "version_minor": 0
      },
      "text/plain": [
       "  0%|          | 0/175 [00:00<?, ?it/s]"
      ]
     },
     "metadata": {},
     "output_type": "display_data"
    },
    {
     "name": "stdout",
     "output_type": "stream",
     "text": [
      "Validation\n"
     ]
    },
    {
     "data": {
      "application/vnd.jupyter.widget-view+json": {
       "model_id": "7664f91d2a4c438fa79021d69eded1f1",
       "version_major": 2,
       "version_minor": 0
      },
      "text/plain": [
       "  0%|          | 0/31 [00:00<?, ?it/s]"
      ]
     },
     "metadata": {},
     "output_type": "display_data"
    },
    {
     "name": "stdout",
     "output_type": "stream",
     "text": [
      "Training loss: 2.266, training acc: 29.842\n",
      "Validation loss: 2.117, validation acc: 43.617\n",
      "[INFO]: Learning rate:  0.0001\n",
      "[INFO]: Save model state at ecpoch 1 (min validation loss)\n",
      "--------------------------------------------------\n",
      "[INFO]: Epoch 2 of 50\n",
      "Training\n"
     ]
    },
    {
     "data": {
      "application/vnd.jupyter.widget-view+json": {
       "model_id": "d2329cb7740a46f5bce686218053bc51",
       "version_major": 2,
       "version_minor": 0
      },
      "text/plain": [
       "  0%|          | 0/175 [00:00<?, ?it/s]"
      ]
     },
     "metadata": {},
     "output_type": "display_data"
    },
    {
     "name": "stdout",
     "output_type": "stream",
     "text": [
      "Validation\n"
     ]
    },
    {
     "data": {
      "application/vnd.jupyter.widget-view+json": {
       "model_id": "70016b1f6bb9482f9d47cd5c88f2ba02",
       "version_major": 2,
       "version_minor": 0
      },
      "text/plain": [
       "  0%|          | 0/31 [00:00<?, ?it/s]"
      ]
     },
     "metadata": {},
     "output_type": "display_data"
    },
    {
     "name": "stdout",
     "output_type": "stream",
     "text": [
      "Training loss: 2.037, training acc: 46.009\n",
      "Validation loss: 1.993, validation acc: 50.912\n",
      "[INFO]: Learning rate:  0.0001\n",
      "[INFO]: Save model state at ecpoch 2 (min validation loss)\n",
      "--------------------------------------------------\n",
      "[INFO]: Epoch 3 of 50\n",
      "Training\n"
     ]
    },
    {
     "data": {
      "application/vnd.jupyter.widget-view+json": {
       "model_id": "710c08f7d0ad46dc9e82c715fd7423ba",
       "version_major": 2,
       "version_minor": 0
      },
      "text/plain": [
       "  0%|          | 0/175 [00:00<?, ?it/s]"
      ]
     },
     "metadata": {},
     "output_type": "display_data"
    },
    {
     "name": "stdout",
     "output_type": "stream",
     "text": [
      "Validation\n"
     ]
    },
    {
     "data": {
      "application/vnd.jupyter.widget-view+json": {
       "model_id": "ac50f6fe9cba486494d858168692248e",
       "version_major": 2,
       "version_minor": 0
      },
      "text/plain": [
       "  0%|          | 0/31 [00:00<?, ?it/s]"
      ]
     },
     "metadata": {},
     "output_type": "display_data"
    },
    {
     "name": "stdout",
     "output_type": "stream",
     "text": [
      "Training loss: 1.959, training acc: 52.301\n",
      "Validation loss: 1.958, validation acc: 56.130\n",
      "[INFO]: Learning rate:  0.0001\n",
      "[INFO]: Save model state at ecpoch 3 (min validation loss)\n",
      "--------------------------------------------------\n",
      "[INFO]: Epoch 4 of 50\n",
      "Training\n"
     ]
    },
    {
     "data": {
      "application/vnd.jupyter.widget-view+json": {
       "model_id": "0de293b91aaa43eba3df3b3ad5ca00da",
       "version_major": 2,
       "version_minor": 0
      },
      "text/plain": [
       "  0%|          | 0/175 [00:00<?, ?it/s]"
      ]
     },
     "metadata": {},
     "output_type": "display_data"
    },
    {
     "name": "stdout",
     "output_type": "stream",
     "text": [
      "Validation\n"
     ]
    },
    {
     "data": {
      "application/vnd.jupyter.widget-view+json": {
       "model_id": "89b6d00945c0413486e69962f6e5bb55",
       "version_major": 2,
       "version_minor": 0
      },
      "text/plain": [
       "  0%|          | 0/31 [00:00<?, ?it/s]"
      ]
     },
     "metadata": {},
     "output_type": "display_data"
    },
    {
     "name": "stdout",
     "output_type": "stream",
     "text": [
      "Training loss: 1.923, training acc: 56.743\n",
      "Validation loss: 1.942, validation acc: 57.497\n",
      "[INFO]: Learning rate:  0.0001\n",
      "[INFO]: Save model state at ecpoch 4 (min validation loss)\n",
      "--------------------------------------------------\n",
      "[INFO]: Epoch 5 of 50\n",
      "Training\n"
     ]
    },
    {
     "data": {
      "application/vnd.jupyter.widget-view+json": {
       "model_id": "c6bd11adb2974baca1d1ba6db7203b75",
       "version_major": 2,
       "version_minor": 0
      },
      "text/plain": [
       "  0%|          | 0/175 [00:00<?, ?it/s]"
      ]
     },
     "metadata": {},
     "output_type": "display_data"
    },
    {
     "name": "stdout",
     "output_type": "stream",
     "text": [
      "Validation\n"
     ]
    },
    {
     "data": {
      "application/vnd.jupyter.widget-view+json": {
       "model_id": "686c15a0f1894f60b2262fd1fa970f25",
       "version_major": 2,
       "version_minor": 0
      },
      "text/plain": [
       "  0%|          | 0/31 [00:00<?, ?it/s]"
      ]
     },
     "metadata": {},
     "output_type": "display_data"
    },
    {
     "name": "stdout",
     "output_type": "stream",
     "text": [
      "Training loss: 1.897, training acc: 59.094\n",
      "Validation loss: 1.937, validation acc: 58.359\n",
      "[INFO]: Learning rate:  0.0001\n",
      "[INFO]: Save model state at ecpoch 5 (min validation loss)\n",
      "--------------------------------------------------\n",
      "[INFO]: Epoch 6 of 50\n",
      "Training\n"
     ]
    },
    {
     "data": {
      "application/vnd.jupyter.widget-view+json": {
       "model_id": "d6b14e550c9f413d97ed9ae7dad40626",
       "version_major": 2,
       "version_minor": 0
      },
      "text/plain": [
       "  0%|          | 0/175 [00:00<?, ?it/s]"
      ]
     },
     "metadata": {},
     "output_type": "display_data"
    },
    {
     "name": "stdout",
     "output_type": "stream",
     "text": [
      "Validation\n"
     ]
    },
    {
     "data": {
      "application/vnd.jupyter.widget-view+json": {
       "model_id": "f51a31ae8c894985acc901a4dd57450a",
       "version_major": 2,
       "version_minor": 0
      },
      "text/plain": [
       "  0%|          | 0/31 [00:00<?, ?it/s]"
      ]
     },
     "metadata": {},
     "output_type": "display_data"
    },
    {
     "name": "stdout",
     "output_type": "stream",
     "text": [
      "Training loss: 1.882, training acc: 60.774\n",
      "Validation loss: 1.932, validation acc: 58.663\n",
      "[INFO]: Learning rate:  0.0001\n",
      "[INFO]: Save model state at ecpoch 6 (min validation loss)\n",
      "--------------------------------------------------\n",
      "[INFO]: Epoch 7 of 50\n",
      "Training\n"
     ]
    },
    {
     "data": {
      "application/vnd.jupyter.widget-view+json": {
       "model_id": "5adc71f990f04e96a2eeb9b2cde6c545",
       "version_major": 2,
       "version_minor": 0
      },
      "text/plain": [
       "  0%|          | 0/175 [00:00<?, ?it/s]"
      ]
     },
     "metadata": {},
     "output_type": "display_data"
    },
    {
     "name": "stdout",
     "output_type": "stream",
     "text": [
      "Validation\n"
     ]
    },
    {
     "data": {
      "application/vnd.jupyter.widget-view+json": {
       "model_id": "b2b46399284a4b26a7bc90376da03807",
       "version_major": 2,
       "version_minor": 0
      },
      "text/plain": [
       "  0%|          | 0/31 [00:00<?, ?it/s]"
      ]
     },
     "metadata": {},
     "output_type": "display_data"
    },
    {
     "name": "stdout",
     "output_type": "stream",
     "text": [
      "Training loss: 1.868, training acc: 61.507\n",
      "Validation loss: 1.927, validation acc: 58.561\n",
      "[INFO]: Learning rate:  0.0001\n",
      "[INFO]: Save model state at ecpoch 7 (min validation loss)\n",
      "--------------------------------------------------\n",
      "[INFO]: Epoch 8 of 50\n",
      "Training\n"
     ]
    },
    {
     "data": {
      "application/vnd.jupyter.widget-view+json": {
       "model_id": "4c884276260b498ab07aeb596518d194",
       "version_major": 2,
       "version_minor": 0
      },
      "text/plain": [
       "  0%|          | 0/175 [00:00<?, ?it/s]"
      ]
     },
     "metadata": {},
     "output_type": "display_data"
    },
    {
     "name": "stdout",
     "output_type": "stream",
     "text": [
      "Validation\n"
     ]
    },
    {
     "data": {
      "application/vnd.jupyter.widget-view+json": {
       "model_id": "42b207fec09f49f095d4a6a834867e24",
       "version_major": 2,
       "version_minor": 0
      },
      "text/plain": [
       "  0%|          | 0/31 [00:00<?, ?it/s]"
      ]
     },
     "metadata": {},
     "output_type": "display_data"
    },
    {
     "name": "stdout",
     "output_type": "stream",
     "text": [
      "Training loss: 1.853, training acc: 63.321\n",
      "Validation loss: 1.921, validation acc: 58.916\n",
      "[INFO]: Learning rate:  0.0001\n",
      "[INFO]: Save model state at ecpoch 8 (min validation loss)\n",
      "--------------------------------------------------\n",
      "[INFO]: Epoch 9 of 50\n",
      "Training\n"
     ]
    },
    {
     "data": {
      "application/vnd.jupyter.widget-view+json": {
       "model_id": "fed152a5100e416ea7a9bdd114d2948f",
       "version_major": 2,
       "version_minor": 0
      },
      "text/plain": [
       "  0%|          | 0/175 [00:00<?, ?it/s]"
      ]
     },
     "metadata": {},
     "output_type": "display_data"
    },
    {
     "name": "stdout",
     "output_type": "stream",
     "text": [
      "Validation\n"
     ]
    },
    {
     "data": {
      "application/vnd.jupyter.widget-view+json": {
       "model_id": "2e05cad869c241368b2a9ec0bd66cae5",
       "version_major": 2,
       "version_minor": 0
      },
      "text/plain": [
       "  0%|          | 0/31 [00:00<?, ?it/s]"
      ]
     },
     "metadata": {},
     "output_type": "display_data"
    },
    {
     "name": "stdout",
     "output_type": "stream",
     "text": [
      "Training loss: 1.841, training acc: 64.268\n",
      "Validation loss: 1.917, validation acc: 60.537\n",
      "[INFO]: Learning rate:  0.0001\n",
      "[INFO]: Save model state at ecpoch 9 (min validation loss)\n",
      "--------------------------------------------------\n",
      "[INFO]: Epoch 10 of 50\n",
      "Training\n"
     ]
    },
    {
     "data": {
      "application/vnd.jupyter.widget-view+json": {
       "model_id": "3a3436e6e9a941fa97b839675123a7aa",
       "version_major": 2,
       "version_minor": 0
      },
      "text/plain": [
       "  0%|          | 0/175 [00:00<?, ?it/s]"
      ]
     },
     "metadata": {},
     "output_type": "display_data"
    },
    {
     "name": "stdout",
     "output_type": "stream",
     "text": [
      "Validation\n"
     ]
    },
    {
     "data": {
      "application/vnd.jupyter.widget-view+json": {
       "model_id": "eaa1c7e101da4c28beaa0234cf47797e",
       "version_major": 2,
       "version_minor": 0
      },
      "text/plain": [
       "  0%|          | 0/31 [00:00<?, ?it/s]"
      ]
     },
     "metadata": {},
     "output_type": "display_data"
    },
    {
     "name": "stdout",
     "output_type": "stream",
     "text": [
      "Training loss: 1.833, training acc: 64.849\n",
      "Validation loss: 1.917, validation acc: 60.588\n",
      "[INFO]: Learning rate:  0.0001\n",
      "[INFO]: Save model state at ecpoch 10 (min validation loss)\n",
      "--------------------------------------------------\n",
      "[INFO]: Epoch 11 of 50\n",
      "Training\n"
     ]
    },
    {
     "data": {
      "application/vnd.jupyter.widget-view+json": {
       "model_id": "d84dd54203564954b2a0da222ba5ba45",
       "version_major": 2,
       "version_minor": 0
      },
      "text/plain": [
       "  0%|          | 0/175 [00:00<?, ?it/s]"
      ]
     },
     "metadata": {},
     "output_type": "display_data"
    },
    {
     "name": "stdout",
     "output_type": "stream",
     "text": [
      "Validation\n"
     ]
    },
    {
     "data": {
      "application/vnd.jupyter.widget-view+json": {
       "model_id": "a042ae7cbf4044f1b9125593d574fe72",
       "version_major": 2,
       "version_minor": 0
      },
      "text/plain": [
       "  0%|          | 0/31 [00:00<?, ?it/s]"
      ]
     },
     "metadata": {},
     "output_type": "display_data"
    },
    {
     "name": "stdout",
     "output_type": "stream",
     "text": [
      "Training loss: 1.821, training acc: 65.940\n",
      "Validation loss: 1.919, validation acc: 60.537\n",
      "[INFO]: Learning rate:  0.0001\n",
      "--------------------------------------------------\n",
      "[INFO]: Epoch 12 of 50\n",
      "Training\n"
     ]
    },
    {
     "data": {
      "application/vnd.jupyter.widget-view+json": {
       "model_id": "b50a1f3cf9314173ace1b454932c8f8e",
       "version_major": 2,
       "version_minor": 0
      },
      "text/plain": [
       "  0%|          | 0/175 [00:00<?, ?it/s]"
      ]
     },
     "metadata": {},
     "output_type": "display_data"
    },
    {
     "name": "stdout",
     "output_type": "stream",
     "text": [
      "Validation\n"
     ]
    },
    {
     "data": {
      "application/vnd.jupyter.widget-view+json": {
       "model_id": "cc64f46e88174441935196520b72f4b7",
       "version_major": 2,
       "version_minor": 0
      },
      "text/plain": [
       "  0%|          | 0/31 [00:00<?, ?it/s]"
      ]
     },
     "metadata": {},
     "output_type": "display_data"
    },
    {
     "name": "stdout",
     "output_type": "stream",
     "text": [
      "Training loss: 1.815, training acc: 66.887\n",
      "Validation loss: 1.925, validation acc: 60.385\n",
      "[INFO]: Learning rate:  0.0001\n",
      "--------------------------------------------------\n",
      "[INFO]: Epoch 13 of 50\n",
      "Training\n"
     ]
    },
    {
     "data": {
      "application/vnd.jupyter.widget-view+json": {
       "model_id": "a3f71124c95d4af2b198a8642af1b513",
       "version_major": 2,
       "version_minor": 0
      },
      "text/plain": [
       "  0%|          | 0/175 [00:00<?, ?it/s]"
      ]
     },
     "metadata": {},
     "output_type": "display_data"
    },
    {
     "name": "stdout",
     "output_type": "stream",
     "text": [
      "Validation\n"
     ]
    },
    {
     "data": {
      "application/vnd.jupyter.widget-view+json": {
       "model_id": "6203054239e84f0291d2ac2de832893c",
       "version_major": 2,
       "version_minor": 0
      },
      "text/plain": [
       "  0%|          | 0/31 [00:00<?, ?it/s]"
      ]
     },
     "metadata": {},
     "output_type": "display_data"
    },
    {
     "name": "stdout",
     "output_type": "stream",
     "text": [
      "Training loss: 1.810, training acc: 67.370\n",
      "Validation loss: 1.921, validation acc: 60.740\n",
      "[INFO]: Learning rate:  0.0001\n",
      "--------------------------------------------------\n",
      "[INFO]: Epoch 14 of 50\n",
      "Training\n"
     ]
    },
    {
     "data": {
      "application/vnd.jupyter.widget-view+json": {
       "model_id": "85f1a1e497644ac2883c6f8bb3abe0bc",
       "version_major": 2,
       "version_minor": 0
      },
      "text/plain": [
       "  0%|          | 0/175 [00:00<?, ?it/s]"
      ]
     },
     "metadata": {},
     "output_type": "display_data"
    },
    {
     "name": "stdout",
     "output_type": "stream",
     "text": [
      "Validation\n"
     ]
    },
    {
     "data": {
      "application/vnd.jupyter.widget-view+json": {
       "model_id": "7fe47a6dd2ae44839b1c8e0af783c243",
       "version_major": 2,
       "version_minor": 0
      },
      "text/plain": [
       "  0%|          | 0/31 [00:00<?, ?it/s]"
      ]
     },
     "metadata": {},
     "output_type": "display_data"
    },
    {
     "name": "stdout",
     "output_type": "stream",
     "text": [
      "Training loss: 1.800, training acc: 68.675\n",
      "Validation loss: 1.925, validation acc: 59.625\n",
      "[INFO]: Learning rate:  0.0001\n",
      "--------------------------------------------------\n",
      "[INFO]: Epoch 15 of 50\n",
      "Training\n"
     ]
    },
    {
     "data": {
      "application/vnd.jupyter.widget-view+json": {
       "model_id": "d4b4c62719a34db09f55dc30b2d68c0d",
       "version_major": 2,
       "version_minor": 0
      },
      "text/plain": [
       "  0%|          | 0/175 [00:00<?, ?it/s]"
      ]
     },
     "metadata": {},
     "output_type": "display_data"
    },
    {
     "name": "stdout",
     "output_type": "stream",
     "text": [
      "Validation\n"
     ]
    },
    {
     "data": {
      "application/vnd.jupyter.widget-view+json": {
       "model_id": "55e942096a3349ddab299f9b5116333d",
       "version_major": 2,
       "version_minor": 0
      },
      "text/plain": [
       "  0%|          | 0/31 [00:00<?, ?it/s]"
      ]
     },
     "metadata": {},
     "output_type": "display_data"
    },
    {
     "name": "stdout",
     "output_type": "stream",
     "text": [
      "Training loss: 1.796, training acc: 68.424\n",
      "Validation loss: 1.917, validation acc: 61.145\n",
      "[INFO]: Learning rate:  0.0001\n",
      "[INFO]: Save model state at ecpoch 15 (min validation loss)\n",
      "--------------------------------------------------\n",
      "[INFO]: Epoch 16 of 50\n",
      "Training\n"
     ]
    },
    {
     "data": {
      "application/vnd.jupyter.widget-view+json": {
       "model_id": "c68087233cc74a46b902ffbdb61c324e",
       "version_major": 2,
       "version_minor": 0
      },
      "text/plain": [
       "  0%|          | 0/175 [00:00<?, ?it/s]"
      ]
     },
     "metadata": {},
     "output_type": "display_data"
    },
    {
     "name": "stdout",
     "output_type": "stream",
     "text": [
      "Validation\n"
     ]
    },
    {
     "data": {
      "application/vnd.jupyter.widget-view+json": {
       "model_id": "fb5ac4a70f9a4084bb8fbe9bb0fea8ba",
       "version_major": 2,
       "version_minor": 0
      },
      "text/plain": [
       "  0%|          | 0/31 [00:00<?, ?it/s]"
      ]
     },
     "metadata": {},
     "output_type": "display_data"
    },
    {
     "name": "stdout",
     "output_type": "stream",
     "text": [
      "Training loss: 1.790, training acc: 69.443\n",
      "Validation loss: 1.918, validation acc: 61.044\n",
      "[INFO]: Learning rate:  0.0001\n",
      "--------------------------------------------------\n",
      "[INFO]: Epoch 17 of 50\n",
      "Training\n"
     ]
    },
    {
     "data": {
      "application/vnd.jupyter.widget-view+json": {
       "model_id": "1ebda77dd0794b9b9921c8b9dd1ebe46",
       "version_major": 2,
       "version_minor": 0
      },
      "text/plain": [
       "  0%|          | 0/175 [00:00<?, ?it/s]"
      ]
     },
     "metadata": {},
     "output_type": "display_data"
    },
    {
     "name": "stdout",
     "output_type": "stream",
     "text": [
      "Validation\n"
     ]
    },
    {
     "data": {
      "application/vnd.jupyter.widget-view+json": {
       "model_id": "4bd780b138e148129f0a3ebc148dbdf1",
       "version_major": 2,
       "version_minor": 0
      },
      "text/plain": [
       "  0%|          | 0/31 [00:00<?, ?it/s]"
      ]
     },
     "metadata": {},
     "output_type": "display_data"
    },
    {
     "name": "stdout",
     "output_type": "stream",
     "text": [
      "Training loss: 1.787, training acc: 69.622\n",
      "Validation loss: 1.921, validation acc: 60.334\n",
      "[INFO]: Learning rate:  0.0001\n",
      "--------------------------------------------------\n",
      "[INFO]: Epoch 18 of 50\n",
      "Training\n"
     ]
    },
    {
     "data": {
      "application/vnd.jupyter.widget-view+json": {
       "model_id": "1b4846c39e8a41b5b7e87230fa9bc296",
       "version_major": 2,
       "version_minor": 0
      },
      "text/plain": [
       "  0%|          | 0/175 [00:00<?, ?it/s]"
      ]
     },
     "metadata": {},
     "output_type": "display_data"
    },
    {
     "name": "stdout",
     "output_type": "stream",
     "text": [
      "Validation\n"
     ]
    },
    {
     "data": {
      "application/vnd.jupyter.widget-view+json": {
       "model_id": "1e900b7f79684b3cb230bf573658df94",
       "version_major": 2,
       "version_minor": 0
      },
      "text/plain": [
       "  0%|          | 0/31 [00:00<?, ?it/s]"
      ]
     },
     "metadata": {},
     "output_type": "display_data"
    },
    {
     "name": "stdout",
     "output_type": "stream",
     "text": [
      "Training loss: 1.780, training acc: 70.775\n",
      "Validation loss: 1.925, validation acc: 60.588\n",
      "[INFO]: Learning rate:  0.0001\n",
      "--------------------------------------------------\n",
      "[INFO]: Epoch 19 of 50\n",
      "Training\n"
     ]
    },
    {
     "data": {
      "application/vnd.jupyter.widget-view+json": {
       "model_id": "3a6f9bd39b8e47039581aad70eb3f1e6",
       "version_major": 2,
       "version_minor": 0
      },
      "text/plain": [
       "  0%|          | 0/175 [00:00<?, ?it/s]"
      ]
     },
     "metadata": {},
     "output_type": "display_data"
    },
    {
     "name": "stdout",
     "output_type": "stream",
     "text": [
      "Validation\n"
     ]
    },
    {
     "data": {
      "application/vnd.jupyter.widget-view+json": {
       "model_id": "1aabfe9943444b3b95d41a05f1083e86",
       "version_major": 2,
       "version_minor": 0
      },
      "text/plain": [
       "  0%|          | 0/31 [00:00<?, ?it/s]"
      ]
     },
     "metadata": {},
     "output_type": "display_data"
    },
    {
     "name": "stdout",
     "output_type": "stream",
     "text": [
      "Training loss: 1.776, training acc: 71.141\n",
      "Validation loss: 1.923, validation acc: 61.246\n",
      "[INFO]: Learning rate:  0.0001\n",
      "--------------------------------------------------\n",
      "[INFO]: Epoch 20 of 50\n",
      "Training\n"
     ]
    },
    {
     "data": {
      "application/vnd.jupyter.widget-view+json": {
       "model_id": "d757914faf74474c81f18f8ea17085b4",
       "version_major": 2,
       "version_minor": 0
      },
      "text/plain": [
       "  0%|          | 0/175 [00:00<?, ?it/s]"
      ]
     },
     "metadata": {},
     "output_type": "display_data"
    },
    {
     "name": "stdout",
     "output_type": "stream",
     "text": [
      "Validation\n"
     ]
    },
    {
     "data": {
      "application/vnd.jupyter.widget-view+json": {
       "model_id": "d351ec5af40847ddbdcf66af1905e629",
       "version_major": 2,
       "version_minor": 0
      },
      "text/plain": [
       "  0%|          | 0/31 [00:00<?, ?it/s]"
      ]
     },
     "metadata": {},
     "output_type": "display_data"
    },
    {
     "name": "stdout",
     "output_type": "stream",
     "text": [
      "Training loss: 1.772, training acc: 71.633\n",
      "Validation loss: 1.932, validation acc: 60.486\n",
      "[INFO]: Learning rate:  0.0001\n",
      "[INFO]: stop training validation loss didn't change after 10 epoch\n"
     ]
    }
   ],
   "source": [
    "# Lists to keep track of losses and accuracies.\n",
    "train_loss, valid_loss = [], []\n",
    "train_acc, valid_acc = [], []\n",
    "min_val_loss, counter  = 1000, 0\n",
    "# Start the training.\n",
    "for epoch in range(epochs):\n",
    "    print(f\"[INFO]: Epoch {epoch+1} of {epochs}\")\n",
    "    train_epoch_loss, train_epoch_acc = train(model, train_loader, \n",
    "                                            optimizer, criterion)\n",
    "    valid_epoch_loss, valid_epoch_acc = validate(model, valid_loader,  \n",
    "                                                criterion)\n",
    "    train_loss.append(train_epoch_loss)\n",
    "    valid_loss.append(valid_epoch_loss)\n",
    "    train_acc.append(train_epoch_acc)\n",
    "    valid_acc.append(valid_epoch_acc)\n",
    "    print(f\"Training loss: {train_epoch_loss:.3f}, training acc: {train_epoch_acc:.3f}\")\n",
    "    print(f\"Validation loss: {valid_epoch_loss:.3f}, validation acc: {valid_epoch_acc:.3f}\")\n",
    "    print('[INFO]: Learning rate: ', optimizer.param_groups[0]['lr'])\n",
    "    if valid_epoch_loss < min_val_loss :\n",
    "        print(f\"[INFO]: Save model state at ecpoch {epoch+1} (min validation loss)\")\n",
    "        save_model(epochs, model, optimizer, criterion, pretrained)\n",
    "        min_val_loss = valid_epoch_loss\n",
    "        counter = 0\n",
    "    else :\n",
    "        counter += 1\n",
    "    \n",
    "    if counter >= 5:\n",
    "        print(\"[INFO]: stop training validation loss didn't change after 10 epoch\")\n",
    "        break\n",
    "    print('-'*50)\n",
    "    \n"
   ]
  },
  {
   "cell_type": "code",
   "execution_count": 23,
   "metadata": {},
   "outputs": [],
   "source": [
    "# torch.save(model.state_dict(), f\"{ROOT_DIR}/model_overfit.pth\")\n",
    "# print('saved')"
   ]
  },
  {
   "cell_type": "code",
   "execution_count": null,
   "metadata": {},
   "outputs": [],
   "source": []
  }
 ],
 "metadata": {
  "colab": {
   "authorship_tag": "ABX9TyM8CpvOHZb7qp1AnOQ3Sq4q",
   "mount_file_id": "1cceqChulJuq5ZjdRvpFYn7nk08xtr29C",
   "provenance": [],
   "toc_visible": true
  },
  "kernelspec": {
   "display_name": "Python 3 (ipykernel)",
   "language": "python",
   "name": "python3"
  },
  "language_info": {
   "codemirror_mode": {
    "name": "ipython",
    "version": 3
   },
   "file_extension": ".py",
   "mimetype": "text/x-python",
   "name": "python",
   "nbconvert_exporter": "python",
   "pygments_lexer": "ipython3",
   "version": "3.9.16"
  },
  "widgets": {
   "application/vnd.jupyter.widget-state+json": {
    "0f683384ae22452ca4c6dafd959ee7d5": {
     "model_module": "@jupyter-widgets/base",
     "model_module_version": "1.2.0",
     "model_name": "LayoutModel",
     "state": {
      "_model_module": "@jupyter-widgets/base",
      "_model_module_version": "1.2.0",
      "_model_name": "LayoutModel",
      "_view_count": null,
      "_view_module": "@jupyter-widgets/base",
      "_view_module_version": "1.2.0",
      "_view_name": "LayoutView",
      "align_content": null,
      "align_items": null,
      "align_self": null,
      "border": null,
      "bottom": null,
      "display": null,
      "flex": null,
      "flex_flow": null,
      "grid_area": null,
      "grid_auto_columns": null,
      "grid_auto_flow": null,
      "grid_auto_rows": null,
      "grid_column": null,
      "grid_gap": null,
      "grid_row": null,
      "grid_template_areas": null,
      "grid_template_columns": null,
      "grid_template_rows": null,
      "height": null,
      "justify_content": null,
      "justify_items": null,
      "left": null,
      "margin": null,
      "max_height": null,
      "max_width": null,
      "min_height": null,
      "min_width": null,
      "object_fit": null,
      "object_position": null,
      "order": null,
      "overflow": null,
      "overflow_x": null,
      "overflow_y": null,
      "padding": null,
      "right": null,
      "top": null,
      "visibility": null,
      "width": null
     }
    },
    "156fc40a5e4a439b8fee685059a71cfd": {
     "model_module": "@jupyter-widgets/base",
     "model_module_version": "1.2.0",
     "model_name": "LayoutModel",
     "state": {
      "_model_module": "@jupyter-widgets/base",
      "_model_module_version": "1.2.0",
      "_model_name": "LayoutModel",
      "_view_count": null,
      "_view_module": "@jupyter-widgets/base",
      "_view_module_version": "1.2.0",
      "_view_name": "LayoutView",
      "align_content": null,
      "align_items": null,
      "align_self": null,
      "border": null,
      "bottom": null,
      "display": null,
      "flex": null,
      "flex_flow": null,
      "grid_area": null,
      "grid_auto_columns": null,
      "grid_auto_flow": null,
      "grid_auto_rows": null,
      "grid_column": null,
      "grid_gap": null,
      "grid_row": null,
      "grid_template_areas": null,
      "grid_template_columns": null,
      "grid_template_rows": null,
      "height": null,
      "justify_content": null,
      "justify_items": null,
      "left": null,
      "margin": null,
      "max_height": null,
      "max_width": null,
      "min_height": null,
      "min_width": null,
      "object_fit": null,
      "object_position": null,
      "order": null,
      "overflow": null,
      "overflow_x": null,
      "overflow_y": null,
      "padding": null,
      "right": null,
      "top": null,
      "visibility": null,
      "width": null
     }
    },
    "481d1902acd54f21938f55229bcc43d1": {
     "model_module": "@jupyter-widgets/controls",
     "model_module_version": "1.5.0",
     "model_name": "DescriptionStyleModel",
     "state": {
      "_model_module": "@jupyter-widgets/controls",
      "_model_module_version": "1.5.0",
      "_model_name": "DescriptionStyleModel",
      "_view_count": null,
      "_view_module": "@jupyter-widgets/base",
      "_view_module_version": "1.2.0",
      "_view_name": "StyleView",
      "description_width": ""
     }
    },
    "739235bc7fde4b07af20b51046d73b10": {
     "model_module": "@jupyter-widgets/controls",
     "model_module_version": "1.5.0",
     "model_name": "FloatProgressModel",
     "state": {
      "_dom_classes": [],
      "_model_module": "@jupyter-widgets/controls",
      "_model_module_version": "1.5.0",
      "_model_name": "FloatProgressModel",
      "_view_count": null,
      "_view_module": "@jupyter-widgets/controls",
      "_view_module_version": "1.5.0",
      "_view_name": "ProgressView",
      "bar_style": "danger",
      "description": "",
      "description_tooltip": null,
      "layout": "IPY_MODEL_fa68485fbe5e42ab84250cd468e0bbd7",
      "max": 161,
      "min": 0,
      "orientation": "horizontal",
      "style": "IPY_MODEL_f06670443d644668b7e92c313a68a447",
      "value": 4
     }
    },
    "8d7328a9b9b747f3a06a7b37d49dc05a": {
     "model_module": "@jupyter-widgets/controls",
     "model_module_version": "1.5.0",
     "model_name": "HTMLModel",
     "state": {
      "_dom_classes": [],
      "_model_module": "@jupyter-widgets/controls",
      "_model_module_version": "1.5.0",
      "_model_name": "HTMLModel",
      "_view_count": null,
      "_view_module": "@jupyter-widgets/controls",
      "_view_module_version": "1.5.0",
      "_view_name": "HTMLView",
      "description": "",
      "description_tooltip": null,
      "layout": "IPY_MODEL_0f683384ae22452ca4c6dafd959ee7d5",
      "placeholder": "​",
      "style": "IPY_MODEL_481d1902acd54f21938f55229bcc43d1",
      "value": "  2%"
     }
    },
    "a9676df94eb44d35ad362043730a23d5": {
     "model_module": "@jupyter-widgets/base",
     "model_module_version": "1.2.0",
     "model_name": "LayoutModel",
     "state": {
      "_model_module": "@jupyter-widgets/base",
      "_model_module_version": "1.2.0",
      "_model_name": "LayoutModel",
      "_view_count": null,
      "_view_module": "@jupyter-widgets/base",
      "_view_module_version": "1.2.0",
      "_view_name": "LayoutView",
      "align_content": null,
      "align_items": null,
      "align_self": null,
      "border": null,
      "bottom": null,
      "display": null,
      "flex": null,
      "flex_flow": null,
      "grid_area": null,
      "grid_auto_columns": null,
      "grid_auto_flow": null,
      "grid_auto_rows": null,
      "grid_column": null,
      "grid_gap": null,
      "grid_row": null,
      "grid_template_areas": null,
      "grid_template_columns": null,
      "grid_template_rows": null,
      "height": null,
      "justify_content": null,
      "justify_items": null,
      "left": null,
      "margin": null,
      "max_height": null,
      "max_width": null,
      "min_height": null,
      "min_width": null,
      "object_fit": null,
      "object_position": null,
      "order": null,
      "overflow": null,
      "overflow_x": null,
      "overflow_y": null,
      "padding": null,
      "right": null,
      "top": null,
      "visibility": null,
      "width": null
     }
    },
    "c64d138466884c8f8bc176ed4affcbfe": {
     "model_module": "@jupyter-widgets/controls",
     "model_module_version": "1.5.0",
     "model_name": "DescriptionStyleModel",
     "state": {
      "_model_module": "@jupyter-widgets/controls",
      "_model_module_version": "1.5.0",
      "_model_name": "DescriptionStyleModel",
      "_view_count": null,
      "_view_module": "@jupyter-widgets/base",
      "_view_module_version": "1.2.0",
      "_view_name": "StyleView",
      "description_width": ""
     }
    },
    "e1a2d5dd87f1414787b255d347586643": {
     "model_module": "@jupyter-widgets/controls",
     "model_module_version": "1.5.0",
     "model_name": "HBoxModel",
     "state": {
      "_dom_classes": [],
      "_model_module": "@jupyter-widgets/controls",
      "_model_module_version": "1.5.0",
      "_model_name": "HBoxModel",
      "_view_count": null,
      "_view_module": "@jupyter-widgets/controls",
      "_view_module_version": "1.5.0",
      "_view_name": "HBoxView",
      "box_style": "",
      "children": [
       "IPY_MODEL_8d7328a9b9b747f3a06a7b37d49dc05a",
       "IPY_MODEL_739235bc7fde4b07af20b51046d73b10",
       "IPY_MODEL_f5a66cdd4204426ab82a256dd7c86fe3"
      ],
      "layout": "IPY_MODEL_156fc40a5e4a439b8fee685059a71cfd"
     }
    },
    "f06670443d644668b7e92c313a68a447": {
     "model_module": "@jupyter-widgets/controls",
     "model_module_version": "1.5.0",
     "model_name": "ProgressStyleModel",
     "state": {
      "_model_module": "@jupyter-widgets/controls",
      "_model_module_version": "1.5.0",
      "_model_name": "ProgressStyleModel",
      "_view_count": null,
      "_view_module": "@jupyter-widgets/base",
      "_view_module_version": "1.2.0",
      "_view_name": "StyleView",
      "bar_color": null,
      "description_width": ""
     }
    },
    "f5a66cdd4204426ab82a256dd7c86fe3": {
     "model_module": "@jupyter-widgets/controls",
     "model_module_version": "1.5.0",
     "model_name": "HTMLModel",
     "state": {
      "_dom_classes": [],
      "_model_module": "@jupyter-widgets/controls",
      "_model_module_version": "1.5.0",
      "_model_name": "HTMLModel",
      "_view_count": null,
      "_view_module": "@jupyter-widgets/controls",
      "_view_module_version": "1.5.0",
      "_view_name": "HTMLView",
      "description": "",
      "description_tooltip": null,
      "layout": "IPY_MODEL_a9676df94eb44d35ad362043730a23d5",
      "placeholder": "​",
      "style": "IPY_MODEL_c64d138466884c8f8bc176ed4affcbfe",
      "value": " 4/161 [02:27&lt;1:09:03, 26.39s/it]"
     }
    },
    "fa68485fbe5e42ab84250cd468e0bbd7": {
     "model_module": "@jupyter-widgets/base",
     "model_module_version": "1.2.0",
     "model_name": "LayoutModel",
     "state": {
      "_model_module": "@jupyter-widgets/base",
      "_model_module_version": "1.2.0",
      "_model_name": "LayoutModel",
      "_view_count": null,
      "_view_module": "@jupyter-widgets/base",
      "_view_module_version": "1.2.0",
      "_view_name": "LayoutView",
      "align_content": null,
      "align_items": null,
      "align_self": null,
      "border": null,
      "bottom": null,
      "display": null,
      "flex": null,
      "flex_flow": null,
      "grid_area": null,
      "grid_auto_columns": null,
      "grid_auto_flow": null,
      "grid_auto_rows": null,
      "grid_column": null,
      "grid_gap": null,
      "grid_row": null,
      "grid_template_areas": null,
      "grid_template_columns": null,
      "grid_template_rows": null,
      "height": null,
      "justify_content": null,
      "justify_items": null,
      "left": null,
      "margin": null,
      "max_height": null,
      "max_width": null,
      "min_height": null,
      "min_width": null,
      "object_fit": null,
      "object_position": null,
      "order": null,
      "overflow": null,
      "overflow_x": null,
      "overflow_y": null,
      "padding": null,
      "right": null,
      "top": null,
      "visibility": null,
      "width": null
     }
    }
   }
  }
 },
 "nbformat": 4,
 "nbformat_minor": 1
}
